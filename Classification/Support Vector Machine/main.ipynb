{
 "cells": [
  {
   "cell_type": "markdown",
   "metadata": {},
   "source": [
    "# Support Vector Machine"
   ]
  },
  {
   "cell_type": "markdown",
   "metadata": {},
   "source": [
    "---------------------------------------------------------------------------------------------------------------------\n",
    "### The definition of Support Vector Machine\n",
    "A support vector machine (SVM) is machine learning algorithm that analyzes data for classification and regression analysis. SVM is a supervised learning method that looks at data and sorts it into one of two categories. An SVM outputs a map of the sorted data with the margins between the two as far apart as possible."
   ]
  },
  {
   "cell_type": "markdown",
   "metadata": {},
   "source": [
    "### Algorithm\n",
    "\n",
    "### Advantages\n",
    "\n",
    "* SVM works relatively well when there is clear margin of separation between classes.\n",
    "* SVM is more effective in high dimensional spaces.\n",
    "* SVM is effective in cases where number of dimensions is greater than the number of samples.\n",
    "* SVM is relatively memory efficient\n",
    "* The cut line is perfect, with the biggest margin characteristics\n",
    "* It is easy to make non-linear lines (non-linear decision boundaries) by replacing Kernel.\n",
    "\n",
    "### Disadvantage\n",
    "\n",
    "* SVM algorithm is not suitable for large data sets.\n",
    "* SVM does not perform very well, when the data set has more noise, such as target classes are overlapping.* \n",
    "* In cases where number of features for each data point exceeds the number of training data sample , the SVM will underperform.\n",
    "* As the support vector classifier works by putting data points, above and below the classifying hyper plane, there is no probabilistic explanation for the classification.\n",
    "* The performance is not good because the time complexity is O(n²), when there are more than 10,000 pieces of data, the operation speed will be slower.\n",
    "\n",
    "### Application\n",
    "\n",
    "* Face detection – SVMc classify parts of the image as a face and non-face and create a square boundary around the face.\n",
    "* Text and hypertext categorization – SVMs allow Text and hypertext categorization for both inductive and transductive models. They use training data to classify documents into different categories. It categorizes on the basis of the score generated and then compares with the threshold value.\n",
    "* Classification of images – Use of SVMs provides better search accuracy for image classification. It provides better accuracy in comparison to the traditional query-based searching techniques.\n",
    "* Handwriting recognition – We use SVMs to recognize handwritten characters used widely.\n",
    "\n",
    "---------------------------------------------------------------------------------------------------------------------\n",
    "### Reference\n",
    "\n",
    "* https://medium.com/machine-learning-101/chapter-2-svm-support-vector-machine-theory-f0812effc72\n",
    "* https://medium.com/@dhiraj8899/top-4-advantages-and-disadvantages-of-support-vector-machine-or-svm-a3c06a2b107\n",
    "* https://data-flair.training/blogs/applications-of-svm/\n",
    "* https://dataaspirant.com/2017/01/25/svm-classifier-implemenation-python-scikit-learn/\n",
    "* https://www.techopedia.com/definition/30364/support-vector-machine-svm"
   ]
  },
  {
   "cell_type": "code",
   "execution_count": null,
   "metadata": {},
   "outputs": [],
   "source": []
  }
 ],
 "metadata": {
  "kernelspec": {
   "display_name": "Python 3",
   "language": "python",
   "name": "python3"
  },
  "language_info": {
   "codemirror_mode": {
    "name": "ipython",
    "version": 3
   },
   "file_extension": ".py",
   "mimetype": "text/x-python",
   "name": "python",
   "nbconvert_exporter": "python",
   "pygments_lexer": "ipython3",
   "version": "3.7.4"
  }
 },
 "nbformat": 4,
 "nbformat_minor": 2
}
