{
 "cells": [
  {
   "cell_type": "markdown",
   "metadata": {},
   "source": [
    "# Logistic Regression"
   ]
  },
  {
   "cell_type": "markdown",
   "metadata": {},
   "source": [
    "---------------------------------------------------------------------------------------------------------------------\n",
    "### The definiton Logistic Regression\n",
    "From the statistics standpoint, Logistic regression is a statistical method for analyzing a dataset in which there are one or more independent variables that determine an outcome. The outcome is measured with a dichotomous variable (in which there are only two possible outcomes). In the machine learning world, logistic regression is a classification algorithm used to assign observations to a discrete set of classes. \n",
    "\n",
    "---------------------------------------------------------------------------------------------------------------------\n",
    "![Logistic Regression](./img/logistic.png)"
   ]
  },
  {
   "cell_type": "markdown",
   "metadata": {},
   "source": [
    "### Algorithm\n",
    "1. Take any real-valued number and map it into a value between the range of 0 and 1. ( Probabilities )\n",
    "2. This values between 0 and 1 will then be transformed into either 0 or 1 using a threshold classifier\n",
    "\n",
    "1. Set and collect the data of independent and dependent variables\n",
    "2. To formulate the model\n",
    "3. Fit the regression line using maximum likelihood estimation\n",
    "### Advantages\n",
    "* It is very efficient and does not require too many computational resources\n",
    "* Highly interpretable\n",
    "* The output of logistics regression are well-calibrated predicted probabilities\n",
    "### Disadvantages\n",
    "* High reliance on a proper presentation of your data\n",
    "* Can only predict a categorical outcome\n",
    "* Being known for its vulnerability to overfitting\n",
    "### Application\n",
    "\n",
    "* Image Segmentation and Categorization\n",
    "* Geographic Image Processing\n",
    "* Handwriting recognition\n",
    "* Spam Detection\n",
    "* Credit Card Fraud or not\n",
    "\n",
    "---------------------------------------------------------------------------------------------------------------------\n",
    "\n",
    "### References \n",
    "* http://terrence.logdown.com/posts/440690-python-super-simple-implementation-of-logistic-regression-classification-and-examples\n",
    "* https://towardsdatascience.com/introduction-to-logistic-regression-66248243c148\n",
    "* https://machinelearningmastery.com/logistic-regression-for-machine-learning/\n",
    "* https://www.quora.com/What-are-applications-of-linear-and-logistic-regression\n",
    "* https://machinelearning-blog.com/2018/04/23/logistic-regression-101/"
   ]
  },
  {
   "cell_type": "code",
   "execution_count": 2,
   "metadata": {},
   "outputs": [
    {
     "name": "stdout",
     "output_type": "stream",
     "text": [
      "current_cost= 5.0\n",
      "current_cost= 4.779324992618724\n",
      "current_cost= 4.592030670476769\n",
      "current_cost= 4.431243921628778\n",
      "current_cost= 4.291731755429608\n",
      "current_cost= 4.16960428974966\n",
      "current_cost= 4.0619203279190375\n",
      "current_cost= 3.9663985940774062\n",
      "current_cost= 3.8812277735971783\n",
      "current_cost= 3.8049423048126227\n"
     ]
    },
    {
     "data": {
      "image/png": "[encoded data removed]",
      "text/plain": [
       "<Figure size 432x288 with 1 Axes>"
      ]
     },
     "metadata": {
      "needs_background": "light"
     },
     "output_type": "display_data"
    },
    {
     "data": {
      "image/png": "[encoded data removed]",
      "text/plain": [
       "<Figure size 432x288 with 1 Axes>"
      ]
     },
     "metadata": {
      "needs_background": "light"
     },
     "output_type": "display_data"
    }
   ],
   "source": [
    "import matplotlib.pyplot as plt\n",
    "import numpy as np\n",
    "import math\n",
    "\n",
    "#Dataset Generation\n",
    "\n",
    "dataset = np.array([\n",
    "((1, -0.4, 0.3), 0),\n",
    "((1, -0.3, -0.1), 0),\n",
    "((1, -0.2, 0.4), 0),\n",
    "((1, -0.1, 0.1), 0),\n",
    "((1, 0.6, -0.5), 0), \n",
    "\n",
    "((1, 0.8, 0.7), 1),\n",
    "((1, 0.9, -0.5), 1),\n",
    "((1, 0.7, -0.9), 1),\n",
    "((1, 0.8, 0.2), 1),\n",
    "((1, 0.4, -0.6), 1)])\n",
    "\n",
    "#Sigmoid function to calculate the probability\n",
    "\n",
    "def sigmoid(z):\n",
    "    return 1 / (1 + np.exp(-z))\n",
    "    \n",
    "#Gradient calculation\n",
    "\n",
    "def gradient(dataset, w):\n",
    "    g = np.zeros(len(w))\n",
    "    for x,y in dataset:\n",
    "        x = np.array(x)\n",
    "        error = sigmoid(w.T.dot(x))\n",
    "        g += (error - y) * x\n",
    "    return g / len(dataset)\n",
    "\n",
    "#cost function calculation\n",
    "\n",
    "def cost(dataset, w):\n",
    "    total_cost = 0\n",
    "    for x,y in dataset:\n",
    "        x = np.array(x)\n",
    "        error = sigmoid(w.T.dot(x))\n",
    "        total_cost += abs(y - error)\n",
    "    return total_cost\n",
    "\n",
    "#Logistic Regression \n",
    "\n",
    "def logistic(dataset): \n",
    "\n",
    "    w = np.zeros(3) # Set default function as 0 + 0*x1 + 0*x2\n",
    "\n",
    "    limit = 10 \n",
    "\n",
    "    eta = 1 \n",
    "\n",
    "    costs = [] \n",
    "\n",
    "    for i in range(limit):\n",
    "        current_cost = cost(dataset, w)\n",
    "        print(\"current_cost=\",current_cost)\n",
    "        costs.append(current_cost)\n",
    "        w = w - eta * gradient(dataset, w)\n",
    "        eta *= 0.95 \n",
    "\n",
    "    \n",
    "\n",
    "    plt.plot(range(limit), costs)\n",
    "    plt.ylabel('Current cost')\n",
    "    plt.show()\n",
    "    return w\n",
    "\n",
    "\n",
    "\n",
    "w = logistic(dataset)\n",
    "\n",
    "\n",
    "\n",
    "ps = [v[0] for v in dataset]\n",
    "fig = plt.figure()\n",
    "ax1 = fig.add_subplot(111)\n",
    "\n",
    "ax1.scatter([v[1] for v in ps[:5]], [v[2] for v in ps[:5]], s=10, c='b', marker=\"o\", label='O')\n",
    "ax1.scatter([v[1] for v in ps[5:]], [v[2] for v in ps[5:]], s=10, c='r', marker=\"x\", label='X')\n",
    "l = np.linspace(-2,2)\n",
    "a,b = -w[1]/w[2], -w[0]/w[2]\n",
    "ax1.plot(l, a*l + b, 'b-')\n",
    "plt.legend(loc='upper left');\n",
    "plt.show()"
   ]
  },
  {
   "cell_type": "code",
   "execution_count": null,
   "metadata": {},
   "outputs": [],
   "source": []
  },
  {
   "cell_type": "code",
   "execution_count": 10,
   "metadata": {},
   "outputs": [],
   "source": []
  },
  {
   "cell_type": "code",
   "execution_count": null,
   "metadata": {},
   "outputs": [],
   "source": []
  }
 ],
 "metadata": {
  "kernelspec": {
   "display_name": "Python 3",
   "language": "python",
   "name": "python3"
  },
  "language_info": {
   "codemirror_mode": {
    "name": "ipython",
    "version": 3
   },
   "file_extension": ".py",
   "mimetype": "text/x-python",
   "name": "python",
   "nbconvert_exporter": "python",
   "pygments_lexer": "ipython3",
   "version": "3.7.4"
  }
 },
 "nbformat": 4,
 "nbformat_minor": 2
}
